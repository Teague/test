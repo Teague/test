{
 "cells": [
  {
   "cell_type": "code",
   "execution_count": 10,
   "metadata": {},
   "outputs": [],
   "source": [
    "import pandas as pd\n",
    "import geopandas as gpd\n",
    "import folium\n",
    "import ipywidgets as widgets\n",
    "import pylab as pl, branca.colormap as bcm\n",
    "import matplotlib as mpl, matplotlib.pyplot as plt\n",
    "import matplotlib.gridspec as gridspec\n",
    "import numpy as np\n",
    "#np.seterr(divide='ignore', invalid='ignore',)"
   ]
  },
  {
   "cell_type": "code",
   "execution_count": 11,
   "metadata": {},
   "outputs": [],
   "source": [
    "eval=pd.read_csv('evalXL.csv')\n",
    "background=pd.read_csv('backgroundXL.csv')\n",
    "results = gpd.read_file('results.geojson')"
   ]
  },
  {
   "cell_type": "code",
   "execution_count": 31,
   "metadata": {},
   "outputs": [],
   "source": [
    "from ipywidgets import Layout\n",
    "\n",
    "style = {'description_width': 'initial'}\n",
    "\n",
    "w_indicator = widgets.Dropdown(options=[('SocioEconomic Risk','SERank'), ('Env Health Disparities','EHDRank'),('Low Income Population','LWINRank'),('Minority Population','MINRank')],\n",
    "                 description='Indicator:',\n",
    "                 disabled=False,\n",
    "                 style=style,\n",
    "                 layout = Layout(width='50%', height='40px', display='flex'))\n",
    "\n",
    "w_region = widgets.SelectMultiple(options=background.StateDistrict.unique(),\n",
    "                 description='Regions:',\n",
    "                 disabled=False,\n",
    "                 style=style,\n",
    "                 layout = Layout(width='50%', height='120px', display='flex'))"
   ]
  },
  {
   "cell_type": "code",
   "execution_count": 96,
   "metadata": {},
   "outputs": [
    {
     "data": {
      "text/plain": [
       "'#4393c3ff'"
      ]
     },
     "execution_count": 96,
     "metadata": {},
     "output_type": "execute_result"
    }
   ],
   "source": [
    "colormap2=bcm.LinearColormap(\n",
    "        ['#053061','#2166ac','#4393c3','#4393c3','#4393c3','#d6604d','#b2182b','#b2182b','#b2182b','#67001f','#67001f'],\n",
    "        index=[1,2,3,4,5,6,7,8,9,10],vmax=10\n",
    "    )\n",
    "    \n",
    "colormap2(5)"
   ]
  },
  {
   "cell_type": "code",
   "execution_count": 110,
   "metadata": {},
   "outputs": [],
   "source": [
    "def update_map(region,limit):\n",
    "    \n",
    "    \n",
    "    results['target']=results[limit]\n",
    "    select_visits=eval[eval['StateDistrict'].isin(region)]\n",
    "    select_facilities=background[background['StateDistrict'].isin(region)]\n",
    "    \n",
    "    layer_alpha=.1\n",
    "    color_alpha=.1\n",
    "    m = folium.Map(location=[47.527212,-120.5469224], zoom_start=7, tiles='cartodbpositron', width='80%', height='80%')\n",
    "\n",
    "\n",
    "    colormap=bcm.LinearColormap(\n",
    "        ['#053061','#2166ac','#4393c3','#92c5de','#d1e5f0','#fddbc7','#f4a582','#d6604d','#b2182b','#67001f','#67001f'],\n",
    "        index=[1,2,3,4,5,6,7,8,9,10],vmax=10\n",
    "    )\n",
    "    colormap.caption = 'Decile Rank (Low-High)'\n",
    "    colormap.add_to(m)\n",
    "\n",
    "    \n",
    "    Visits = folium.FeatureGroup(name='Visits', show=True)\n",
    "    NoVisits = folium.FeatureGroup(name='Facilities', show=True)\n",
    "    EJM = folium.FeatureGroup(name=w_indicator.label, show=False)\n",
    "    CodedVisits = folium.FeatureGroup(name='Coded Visits', show=False)\n",
    "    CodedFacilities = folium.FeatureGroup(name='Coded Facilities', show=False)    \n",
    "\n",
    "    EJMchoropleth = folium.GeoJson(results.to_json(),\n",
    "                            name='result4',\n",
    "                            highlight_function=lambda x: {'color':'#000000', 'weight':2,'fillOpacity':.5},\n",
    "                            style_function=lambda x :{'fillColor':colormap(x['properties']['target']),\n",
    "                                                      'color':colormap(x['properties']['target']),'weight':.5,'fillOpacity':color_alpha},\n",
    "                            tooltip=folium.features.GeoJsonTooltip(fields=[limit], aliases=[limit], style=('background-color:rgba(255, 255, 255, 0.7); color: black; font-family:courier new; font-size: 7px; padding: 0px;'),sticky=True))\n",
    "    \n",
    "    select_visits.apply(lambda row:folium.CircleMarker(location=[row[\"LocationLatitude\"], row[\"LocationLongitude\"]],\n",
    "                                              highlight_function=lambda x: {\"weight\":3,'fillOpacity':0.95,'zoom':8},\n",
    "                                              radius=5, color='green',weight=1,show=True, fill_color='green',popup=folium.map.Popup('<a href=\"http://ecyaphwtr/turboplan/Pages/PlanHome.aspx?PlanID='+str(row['PlanID'])+'\">'+row['FacilityName']+'</a><br> '+row['FirstName']+'<br>'+str(row['StaffReminderDate']),max_width=150))\n",
    "                                             .add_to(Visits), axis=1)\n",
    "    \n",
    "    select_visits.apply(lambda row:folium.CircleMarker(location=[row[\"LocationLatitude\"], row[\"LocationLongitude\"]],\n",
    "                                              highlight_function=lambda x: {\"weight\":3,'fillOpacity':0.95,'zoom':8},\n",
    "                                              radius=6, color=colormap2(row[limit]),weight=1,fill_opacity=.8, fill_color=colormap(row[limit]),\n",
    "                                                       popup=folium.map.Popup('<a href=\"http://ecyaphwtr/turboplan/Pages/PlanHome.aspx?PlanID='+str(row['PlanID'])+'\">'+row['FacilityName']+'</a><br> '+row['FirstName']+'<br>'+str(row['StaffReminderDate']+'<br>'+str(limit)+': '+str(row[limit])),max_width=200))\n",
    "                                             .add_to(CodedVisits), axis=1)\n",
    "                                              \n",
    "                                              \n",
    "    select_facilities.apply(lambda row:folium.CircleMarker(location=[row[\"LocationLatitude\"], row[\"LocationLongitude\"]], \n",
    "                                              radius=3, color='black',weight=.5, fill_color='grey',fill_opacity=.5,popup='<a href=\"http://ecyaphwtr/turboplan/Pages/PlanHome.aspx?PlanID='+str(row['PlanID'])+'\">'+row['FacilityName']+'</a><br>'+row['FullName'],max_width=200)\n",
    "                                             .add_to(NoVisits), axis=1)\n",
    "    \n",
    "    select_facilities.apply(lambda row:folium.CircleMarker(location=[row[\"LocationLatitude\"], row[\"LocationLongitude\"]], \n",
    "                                              radius=3, color='black',weight=.5, fill_color=colormap(row[limit]),fill_opacity=.6,\n",
    "                                                           popup='<a href=\"http://ecyaphwtr/turboplan/Pages/PlanHome.aspx?PlanID='+str(row['PlanID'])+'\">'+row['FacilityName']+'</a><br>'+row['FullName']+'<br>'+str(limit)+': '+str(row[limit]),max_width=200)\n",
    "                                             .add_to(CodedFacilities), axis=1)\n",
    "    Visits.add_to(m)\n",
    "    NoVisits.add_to(m)\n",
    "    CodedVisits.add_to(m)\n",
    "    CodedFacilities.add_to(m)\n",
    "    m.keep_in_front(NoVisits)\n",
    "    m.keep_in_front(CodedFacilities)   \n",
    "    m.keep_in_front(Visits)\n",
    "    m.keep_in_front(CodedVisits)\n",
    "\n",
    "    EJMchoropleth.add_to(EJM)\n",
    "    EJM.add_to(m)\n",
    "    \n",
    "    folium.TileLayer('cartodbpositron').add_to(m)\n",
    "    folium.LayerControl().add_to(m)\n",
    "\n",
    "    title = 'Planning Facilities and Visits Across Vulnerable Communities ('+w_indicator.label+')'\n",
    "    title_html = '''<h3 align=\"center\" style=\"font-size:16px\"><b>{}</b></h3>'''.format(title)   \n",
    "    m.get_root().html.add_child(folium.Element(title_html))\n",
    "\n",
    "    display(m)\n",
    "    \n",
    "    background2=background[background['StateDistrict'].isin(region)]\n",
    "    eval2=eval[eval['StateDistrict'].isin(region)]\n",
    "    \n",
    "    fig = plt.figure(figsize=(18,18),constrained_layout=True)\n",
    "    gs1 = gridspec.GridSpec(ncols=2, nrows=3, figure=fig)\n",
    "\n",
    "    plot1 = fig.add_subplot(gs1[0,0])\n",
    "    N, bins, patches1 = pl.hist(background2[limit], bins=np.arange(1,12)-.5)\n",
    "    for i in range(len(patches1)):\n",
    "        patches1[i].set_facecolor(colormap(i)) \n",
    "    plt.grid(b=False, which='major', color='#999999', linestyle='-', alpha=.2)\n",
    "    plt.xticks(np.arange(1, 11, 1.0))\n",
    "    plt.xlabel(limit, fontsize=16)  \n",
    "    plt.ylabel(\"Facilities\", fontsize=16)\n",
    "    plt.title(\"All Facilities by \"+limit, fontsize=16)\n",
    "\n",
    "    plot2 = fig.add_subplot(gs1[0,1])\n",
    "    N, bins, patches2 = pl.hist(eval2[limit], bins=np.arange(1,12)-.5)\n",
    "    for i in range(len(patches2)):\n",
    "        patches2[i].set_facecolor(colormap(i))\n",
    "    plt.grid(b=False, which='major', color='#999999', linestyle='-', alpha=.2)\n",
    "    plt.xticks(np.arange(1, 11, 1.0))\n",
    "    plt.xlabel(limit, fontsize=16)  \n",
    "    plt.ylabel(\"Visits\", fontsize=16)\n",
    "    plt.title(\"TR Visits by \"+limit, fontsize=16)\n",
    "\n",
    "    plot3 = fig.add_subplot(gs1[1:,:])\n",
    "\n",
    "    N, bins, patches3 = pl.hist(background2[limit], bins=np.arange(1,12)-.5,color='lightblue',edgecolor='blue', linewidth=.5,density=True,label='Facilities')\n",
    "    N, bins, patches3 = pl.hist(eval2[limit], bins=np.arange(1,12)-.5,color='salmon',alpha=.3,edgecolor='red', linewidth=1,density=True,label='Visits')\n",
    "    plt.grid(b=False, which='major', color='#999999', linestyle='-', alpha=.2)\n",
    "    plt.xticks(np.arange(1, 11, 1.0))\n",
    "\n",
    "    plt.xlabel(limit, fontsize=16)  \n",
    "    plt.ylabel(\"Percent\", fontsize=16)\n",
    "    plt.title(\"Visits / Facilities by \"+limit, fontsize=16)\n",
    "    plt.legend()\n",
    "    plt.show()\n",
    "    \n",
    "    priority=background2.merge(eval2[['FacilityName','StaffReminderDate']], on='FacilityName', how='outer')\n",
    "    \n",
    "\n",
    "\n",
    "\n",
    "    \n",
    "    display(priority[['StateDistrict','FacilityName','FullName','StaffReminderDate',limit]].reset_index(drop=True).sort_values(['StateDistrict',limit], ascending=False).style.format({limit: \"{:.0f}\",}).background_gradient(cmap='coolwarm',subset=[limit]))\n",
    "    #display(background2[['FacilityName','FullName',limit]].background_gradient(cmap='Blues',subset=[limit]).sort_values(by=limit, ascending=False).head(25))"
   ]
  },
  {
   "cell_type": "code",
   "execution_count": null,
   "metadata": {},
   "outputs": [],
   "source": []
  },
  {
   "cell_type": "code",
   "execution_count": null,
   "metadata": {},
   "outputs": [],
   "source": []
  },
  {
   "cell_type": "markdown",
   "metadata": {},
   "source": [
    "<p style=\"font-size:12px,Courier New\"><img style=\"float: left; padding-right: 30px\" src=\"https://upload.wikimedia.org/wikipedia/commons/thumb/6/6f/Seal_of_the_United_States_Environmental_Protection_Agency.svg/1200px-Seal_of_the_United_States_Environmental_Protection_Agency.svg.png\" alt=\"WA State Department of Ecology logo.\" width=\"90\" height=\"90\" border=\"0\"><h2> Definition, EPA EJ data and WA DOH WTN data</h2> <br>\n",
    "Data from [ <a href=\"https://www.epa.gov/ejscreen/download-ejscreen-data\">EPA's EJ Screen</a> ] and [ <a href=\"https://fortress.wa.gov/doh/wtn/WTNIBL/\">WA Dept of Health's WTN</a> ] merged into census geodataframe<br>\n",
    "\n",
    "<b>Environmental Justice</b>- The fair treatment and meaningful involvement of all people regardless of race, color, national origin or income with respect to the development, implementation, and enforcement of environmental laws, regulations and policies. This includes using an intersectional lens to address disproportionate environmental and health impacts by prioritizing highly impacted populations, equitably distributing resources and benefits, and eliminating harm'\n",
    "    \n",
    "WTN's <font color='red'><b>Environmental Health Disparities Indicator</b></font> is comprised of indicators in the following general categories:<ul>\n",
    "  <li><b>Environmental Exposures</b> (NOx-deisel emissions; ozone concentration; PM2.5 Concentration; populations near heavy traffic roadways; toxic release from facilities (RSEI model))</li>\n",
    "  <li><b>Environmental Effects</b> (lead risk from housing; proximity to hazardous waste treatment, storage, and disposal facilities (TSDFs); proximity to National Priorities List sites (Superfund Sites); proximity to Risk Management Plan (RMP) facilties; wastewater discharge)</li>\n",
    "  <li><b>Sensitive Populations</b> (death from cardiovascular disease; low birth weight)</li>\n",
    "    <li><font color='red'><b>Socioeconomic Factors</b></font> (limited English; no high school diploma; <font color='green'><b>poverty</b>; <b>race</b></font> - people of color; transportation expense; unaffordable housing; unemployed)</li>\n",
    "</ul>\n"
   ]
  },
  {
   "cell_type": "code",
   "execution_count": 111,
   "metadata": {
    "scrolled": false
   },
   "outputs": [
    {
     "data": {
      "application/vnd.jupyter.widget-view+json": {
       "model_id": "57283aacbf344ea5b4102a2370d476b5",
       "version_major": 2,
       "version_minor": 0
      },
      "text/plain": [
       "interactive(children=(SelectMultiple(description='Regions:', index=(0, 1, 2, 3), layout=Layout(display='flex',…"
      ]
     },
     "metadata": {},
     "output_type": "display_data"
    }
   ],
   "source": [
    "widgets.interactive(update_map, limit=w_indicator, region=w_region)"
   ]
  },
  {
   "cell_type": "code",
   "execution_count": 228,
   "metadata": {},
   "outputs": [
    {
     "data": {
      "image/png": "[encoded data removed]",
      "text/plain": [
       "<Figure size 432x288 with 1 Axes>"
      ]
     },
     "metadata": {},
     "output_type": "display_data"
    }
   ],
   "source": [
    "\n",
    "\n",
    "#ax=sns.kdeplot(background.EHDRank, color=\"grey\", bw_adjust=.6,clip=[1,10])\n",
    "#ax=sns.kdeplot(eval.EHDRank, color=\"dodgerblue\", bw_adjust=.4,clip=[1,10])\n",
    "\n",
    "\n",
    "#x1 = ax.lines[0].get_xydata()[:,0]\n",
    "#y1 = ax.lines[0].get_xydata()[:,1]\n",
    "#x2 = ax.lines[1].get_xydata()[:,0]\n",
    "#y2 = ax.lines[1].get_xydata()[:,1]\n",
    "\n",
    "#ax.fill_between(x2,y2,y1, color=\"green\",interpolate=True, alpha=0.1, where=y2>y1)\n",
    "#ax.fill_between(x2,y2,y1, color=\"red\",interpolate=True, alpha=0.1, where=y1>y2)\n",
    "\n",
    "#sns.set_style(\"whitegrid\", {'grid.linestyle': '--'})\n",
    "#ax.xaxis.set_major_locator(ticker.MultipleLocator(1))"
   ]
  },
  {
   "cell_type": "code",
   "execution_count": null,
   "metadata": {},
   "outputs": [],
   "source": []
  },
  {
   "cell_type": "code",
   "execution_count": null,
   "metadata": {},
   "outputs": [],
   "source": []
  }
 ],
 "metadata": {
  "kernelspec": {
   "display_name": "Python [conda env:geo_note]",
   "language": "python",
   "name": "conda-env-geo_note-py"
  },
  "language_info": {
   "codemirror_mode": {
    "name": "ipython",
    "version": 3
   },
   "file_extension": ".py",
   "mimetype": "text/x-python",
   "name": "python",
   "nbconvert_exporter": "python",
   "pygments_lexer": "ipython3",
   "version": "3.8.5"
  },
  "toc": {
   "base_numbering": 1,
   "nav_menu": {},
   "number_sections": true,
   "sideBar": true,
   "skip_h1_title": false,
   "title_cell": "Table of Contents",
   "title_sidebar": "Contents",
   "toc_cell": false,
   "toc_position": {},
   "toc_section_display": true,
   "toc_window_display": false
  },
  "varInspector": {
   "cols": {
    "lenName": 16,
    "lenType": 16,
    "lenVar": 40
   },
   "kernels_config": {
    "python": {
     "delete_cmd_postfix": "",
     "delete_cmd_prefix": "del ",
     "library": "var_list.py",
     "varRefreshCmd": "print(var_dic_list())"
    },
    "r": {
     "delete_cmd_postfix": ") ",
     "delete_cmd_prefix": "rm(",
     "library": "var_list.r",
     "varRefreshCmd": "cat(var_dic_list()) "
    }
   },
   "types_to_exclude": [
    "module",
    "function",
    "builtin_function_or_method",
    "instance",
    "_Feature"
   ],
   "window_display": false
  }
 },
 "nbformat": 4,
 "nbformat_minor": 4
}
